{
 "cells": [
  {
   "cell_type": "markdown",
   "metadata": {},
   "source": [
    "# 1. Introduction"
   ]
  },
  {
   "cell_type": "markdown",
   "metadata": {},
   "source": [
    "Selon un jeu de données fourni par la société cliente (BPI) nous sommes missionnés d'identifier 5 startups qui sortiraient du lot de par leur potentiel. Il convient alors d'établir un modèle suivant l'évolution du profit de ces startups. Dans cette étude, nous allons tester les paramètres qui nous sont données entre eux afin de prédire au mieux possible un profit théorique d'une startup dont on ne connait pas encore les investissements."
   ]
  },
  {
   "cell_type": "markdown",
   "metadata": {},
   "source": [
    "#  2. Découverte du dataset"
   ]
  },
  {
   "cell_type": "markdown",
   "metadata": {},
   "source": [
    "##  2.1 Survoler nos données"
   ]
  },
  {
   "cell_type": "code",
   "execution_count": 15,
   "metadata": {},
   "outputs": [],
   "source": [
    "#import des principales librairies utilisées tout au long de ce notebook\n",
    "\n",
    "import numpy as np #data manipulation\n",
    "import pandas as pd  #data-wrangling\n",
    "import matplotlib.pyplot as plt #datavizu\n",
    "import seaborn as sns  #datavizu\n",
    "from random import randint\n",
    "\n",
    "#disable all warnings \n",
    "import warnings\n",
    "warnings.filterwarnings('ignore')\n",
    "import pprint"
   ]
  },
  {
   "cell_type": "code",
   "execution_count": null,
   "metadata": {},
   "outputs": [],
   "source": []
  },
  {
   "cell_type": "code",
   "execution_count": 107,
   "metadata": {},
   "outputs": [
    {
     "data": {
      "text/html": [
       "<div>\n",
       "<style scoped>\n",
       "    .dataframe tbody tr th:only-of-type {\n",
       "        vertical-align: middle;\n",
       "    }\n",
       "\n",
       "    .dataframe tbody tr th {\n",
       "        vertical-align: top;\n",
       "    }\n",
       "\n",
       "    .dataframe thead th {\n",
       "        text-align: right;\n",
       "    }\n",
       "</style>\n",
       "<table border=\"1\" class=\"dataframe\">\n",
       "  <thead>\n",
       "    <tr style=\"text-align: right;\">\n",
       "      <th></th>\n",
       "      <th>R&amp;D</th>\n",
       "      <th>Administration</th>\n",
       "      <th>Marketing</th>\n",
       "      <th>villes</th>\n",
       "      <th>Profit</th>\n",
       "    </tr>\n",
       "  </thead>\n",
       "  <tbody>\n",
       "    <tr>\n",
       "      <th>0</th>\n",
       "      <td>165349.20</td>\n",
       "      <td>136897.80</td>\n",
       "      <td>471784.10</td>\n",
       "      <td>Paris</td>\n",
       "      <td>192261.83</td>\n",
       "    </tr>\n",
       "    <tr>\n",
       "      <th>1</th>\n",
       "      <td>162597.70</td>\n",
       "      <td>151377.59</td>\n",
       "      <td>443898.53</td>\n",
       "      <td>Strasbourg</td>\n",
       "      <td>191792.06</td>\n",
       "    </tr>\n",
       "    <tr>\n",
       "      <th>2</th>\n",
       "      <td>153441.51</td>\n",
       "      <td>101145.55</td>\n",
       "      <td>407934.54</td>\n",
       "      <td>Lyon</td>\n",
       "      <td>191050.39</td>\n",
       "    </tr>\n",
       "    <tr>\n",
       "      <th>3</th>\n",
       "      <td>144372.41</td>\n",
       "      <td>118671.85</td>\n",
       "      <td>383199.62</td>\n",
       "      <td>Paris</td>\n",
       "      <td>182901.99</td>\n",
       "    </tr>\n",
       "    <tr>\n",
       "      <th>4</th>\n",
       "      <td>142107.34</td>\n",
       "      <td>91391.77</td>\n",
       "      <td>366168.42</td>\n",
       "      <td>Lyon</td>\n",
       "      <td>166187.94</td>\n",
       "    </tr>\n",
       "  </tbody>\n",
       "</table>\n",
       "</div>"
      ],
      "text/plain": [
       "         R&D  Administration  Marketing      villes     Profit\n",
       "0  165349.20       136897.80  471784.10       Paris  192261.83\n",
       "1  162597.70       151377.59  443898.53  Strasbourg  191792.06\n",
       "2  153441.51       101145.55  407934.54        Lyon  191050.39\n",
       "3  144372.41       118671.85  383199.62       Paris  182901.99\n",
       "4  142107.34        91391.77  366168.42        Lyon  166187.94"
      ]
     },
     "execution_count": 107,
     "metadata": {},
     "output_type": "execute_result"
    }
   ],
   "source": [
    "#CSV to DATAFRAME\n",
    "df = pd.read_csv(\n",
    "'https://simplonline-v3-prod.s3.eu-west-3.amazonaws.com/media/file/csv/2120d261-1446-43e8-b0eb-a681e66d738a.csv'\n",
    "        ,sep=';')\n",
    "\n",
    "#dataset = pd.read_csv('TP_licornes.csv', sep=';')\n",
    "\n",
    "#sample view\n",
    "df.head(5)"
   ]
  },
  {
   "cell_type": "code",
   "execution_count": 108,
   "metadata": {},
   "outputs": [
    {
     "data": {
      "text/plain": [
       "R&D               0\n",
       "Administration    0\n",
       "Marketing         0\n",
       "villes            0\n",
       "Profit            0\n",
       "dtype: int64"
      ]
     },
     "execution_count": 108,
     "metadata": {},
     "output_type": "execute_result"
    }
   ],
   "source": [
    "#Trouvons le nombre de zéros\n",
    "df.isnull().sum()"
   ]
  },
  {
   "cell_type": "code",
   "execution_count": 109,
   "metadata": {},
   "outputs": [
    {
     "data": {
      "text/plain": [
       "R&D               0\n",
       "Administration    0\n",
       "Marketing         0\n",
       "villes            0\n",
       "Profit            0\n",
       "dtype: int64"
      ]
     },
     "execution_count": 109,
     "metadata": {},
     "output_type": "execute_result"
    }
   ],
   "source": [
    "#Vérifions les valeurs non renseignées\n",
    "df.isna().sum()"
   ]
  },
  {
   "cell_type": "code",
   "execution_count": 110,
   "metadata": {},
   "outputs": [
    {
     "name": "stdout",
     "output_type": "stream",
     "text": [
      "<class 'pandas.core.frame.DataFrame'>\n",
      "RangeIndex: 50 entries, 0 to 49\n",
      "Data columns (total 5 columns):\n",
      " #   Column          Non-Null Count  Dtype  \n",
      "---  ------          --------------  -----  \n",
      " 0   R&D             50 non-null     float64\n",
      " 1   Administration  50 non-null     float64\n",
      " 2   Marketing       50 non-null     float64\n",
      " 3   villes          50 non-null     object \n",
      " 4   Profit          50 non-null     float64\n",
      "dtypes: float64(4), object(1)\n",
      "memory usage: 2.1+ KB\n"
     ]
    }
   ],
   "source": [
    "df.info()"
   ]
  },
  {
   "cell_type": "markdown",
   "metadata": {},
   "source": [
    "Nous avons donc 4 variables float et 1 variable de type objet"
   ]
  },
  {
   "cell_type": "code",
   "execution_count": 111,
   "metadata": {},
   "outputs": [
    {
     "data": {
      "text/html": [
       "<div>\n",
       "<style scoped>\n",
       "    .dataframe tbody tr th:only-of-type {\n",
       "        vertical-align: middle;\n",
       "    }\n",
       "\n",
       "    .dataframe tbody tr th {\n",
       "        vertical-align: top;\n",
       "    }\n",
       "\n",
       "    .dataframe thead th {\n",
       "        text-align: right;\n",
       "    }\n",
       "</style>\n",
       "<table border=\"1\" class=\"dataframe\">\n",
       "  <thead>\n",
       "    <tr style=\"text-align: right;\">\n",
       "      <th></th>\n",
       "      <th>R&amp;D</th>\n",
       "      <th>Administration</th>\n",
       "      <th>Marketing</th>\n",
       "      <th>Profit</th>\n",
       "    </tr>\n",
       "  </thead>\n",
       "  <tbody>\n",
       "    <tr>\n",
       "      <th>count</th>\n",
       "      <td>50.000000</td>\n",
       "      <td>50.000000</td>\n",
       "      <td>50.000000</td>\n",
       "      <td>50.000000</td>\n",
       "    </tr>\n",
       "    <tr>\n",
       "      <th>mean</th>\n",
       "      <td>73721.615600</td>\n",
       "      <td>121344.639600</td>\n",
       "      <td>211025.097800</td>\n",
       "      <td>112012.639200</td>\n",
       "    </tr>\n",
       "    <tr>\n",
       "      <th>std</th>\n",
       "      <td>45902.256482</td>\n",
       "      <td>28017.802755</td>\n",
       "      <td>122290.310726</td>\n",
       "      <td>40306.180338</td>\n",
       "    </tr>\n",
       "    <tr>\n",
       "      <th>min</th>\n",
       "      <td>0.000000</td>\n",
       "      <td>51283.140000</td>\n",
       "      <td>0.000000</td>\n",
       "      <td>14681.400000</td>\n",
       "    </tr>\n",
       "    <tr>\n",
       "      <th>25%</th>\n",
       "      <td>39936.370000</td>\n",
       "      <td>103730.875000</td>\n",
       "      <td>129300.132500</td>\n",
       "      <td>90138.902500</td>\n",
       "    </tr>\n",
       "    <tr>\n",
       "      <th>50%</th>\n",
       "      <td>73051.080000</td>\n",
       "      <td>122699.795000</td>\n",
       "      <td>212716.240000</td>\n",
       "      <td>107978.190000</td>\n",
       "    </tr>\n",
       "    <tr>\n",
       "      <th>75%</th>\n",
       "      <td>101602.800000</td>\n",
       "      <td>144842.180000</td>\n",
       "      <td>299469.085000</td>\n",
       "      <td>139765.977500</td>\n",
       "    </tr>\n",
       "    <tr>\n",
       "      <th>max</th>\n",
       "      <td>165349.200000</td>\n",
       "      <td>182645.560000</td>\n",
       "      <td>471784.100000</td>\n",
       "      <td>192261.830000</td>\n",
       "    </tr>\n",
       "  </tbody>\n",
       "</table>\n",
       "</div>"
      ],
      "text/plain": [
       "                 R&D  Administration      Marketing         Profit\n",
       "count      50.000000       50.000000      50.000000      50.000000\n",
       "mean    73721.615600   121344.639600  211025.097800  112012.639200\n",
       "std     45902.256482    28017.802755  122290.310726   40306.180338\n",
       "min         0.000000    51283.140000       0.000000   14681.400000\n",
       "25%     39936.370000   103730.875000  129300.132500   90138.902500\n",
       "50%     73051.080000   122699.795000  212716.240000  107978.190000\n",
       "75%    101602.800000   144842.180000  299469.085000  139765.977500\n",
       "max    165349.200000   182645.560000  471784.100000  192261.830000"
      ]
     },
     "execution_count": 111,
     "metadata": {},
     "output_type": "execute_result"
    }
   ],
   "source": [
    "df.describe()"
   ]
  },
  {
   "cell_type": "markdown",
   "metadata": {},
   "source": [
    "Notre échantillon comporte 50 lignes toutes non-nulles"
   ]
  },
  {
   "cell_type": "markdown",
   "metadata": {},
   "source": [
    "##  2.1 Comprendre nos features"
   ]
  },
  {
   "cell_type": "code",
   "execution_count": 117,
   "metadata": {},
   "outputs": [
    {
     "data": {
      "image/png": "[encoded data removed]",
      "text/plain": [
       "<Figure size 2160x720 with 3 Axes>"
      ]
     },
     "metadata": {},
     "output_type": "display_data"
    }
   ],
   "source": [
    "#front-end de seaborn\n",
    "import seaborn as sns\n",
    "sns.set(context='notebook', style='darkgrid', palette='deep', font='sans-serif', font_scale=1.5, color_codes=True, rc=None)\n",
    "\n",
    "#couleur aléatoire pour les graph\n",
    "def random_color():\n",
    "    rgbl=['green','red','cyan','magenta','yellow','orange']\n",
    "    return rgbl[randint(0,7)]\n",
    "\n",
    "#créer 3 subplots vide\n",
    "fig, axes = plt.subplots(1,3,figsize=(30,10))\n",
    "\n",
    "#charge les subplots avec les données des secteurs d'activités\n",
    "for i in range(len(df.columns)-2):\n",
    "    sns.distplot(df[df.columns[i]], ax=axes[i], color = random_color())\n",
    "\n",
    "#montrer les graphs\n",
    "plt.show()"
   ]
  },
  {
   "cell_type": "markdown",
   "metadata": {},
   "source": [
    "Pourquoi ces graphs ?\n",
    "-> Ils nous montrent que les 3 domaines d'investissement suivent une loi normale et qu'il y a une certaine cohérence avec la distribution de notre échantillon"
   ]
  },
  {
   "cell_type": "markdown",
   "metadata": {},
   "source": [
    "On peut aussi s'en assurer par le test de Shapiro-Wilk ;"
   ]
  },
  {
   "cell_type": "code",
   "execution_count": 118,
   "metadata": {},
   "outputs": [
    {
     "data": {
      "text/plain": [
       "ShapiroResult(statistic=0.890811026096344, pvalue=6.788404560698069e-11)"
      ]
     },
     "execution_count": 118,
     "metadata": {},
     "output_type": "execute_result"
    }
   ],
   "source": [
    "from scipy import stats\n",
    "\n",
    "shapiro_test = stats.shapiro(df[[\"R&D\",\"Administration\",\"Marketing\",\"Profit\"]])\n",
    "\n",
    "shapiro_test"
   ]
  },
  {
   "cell_type": "markdown",
   "metadata": {},
   "source": [
    "Notre p-value est très en dessous d'un seuil qui sera défini à 0.05 (5%)\n",
    "On en tire donc les conclusions que la condition de loi normale de notre échantillon est bien respectée"
   ]
  },
  {
   "cell_type": "markdown",
   "metadata": {},
   "source": [
    "## 2.3 Une avance sur les corrélations"
   ]
  },
  {
   "cell_type": "code",
   "execution_count": 119,
   "metadata": {},
   "outputs": [
    {
     "data": {
      "text/plain": [
       "<seaborn.axisgrid.PairGrid at 0x10e0d6dc0>"
      ]
     },
     "execution_count": 119,
     "metadata": {},
     "output_type": "execute_result"
    },
    {
     "data": {
      "image/png": "[encoded data removed]",
      "text/plain": [
       "<Figure size 720x720 with 20 Axes>"
      ]
     },
     "metadata": {},
     "output_type": "display_data"
    }
   ],
   "source": [
    "sns.pairplot(df)"
   ]
  },
  {
   "cell_type": "markdown",
   "metadata": {},
   "source": [
    "Cette fonction de seaborn fait ressortir que la R&D est la variable (feature) la plus correlée avec le profit."
   ]
  },
  {
   "cell_type": "markdown",
   "metadata": {},
   "source": [
    "Mais on peut aussi le constater avec les fonctions suivantes : "
   ]
  },
  {
   "cell_type": "code",
   "execution_count": 120,
   "metadata": {},
   "outputs": [
    {
     "data": {
      "text/html": [
       "<div>\n",
       "<style scoped>\n",
       "    .dataframe tbody tr th:only-of-type {\n",
       "        vertical-align: middle;\n",
       "    }\n",
       "\n",
       "    .dataframe tbody tr th {\n",
       "        vertical-align: top;\n",
       "    }\n",
       "\n",
       "    .dataframe thead th {\n",
       "        text-align: right;\n",
       "    }\n",
       "</style>\n",
       "<table border=\"1\" class=\"dataframe\">\n",
       "  <thead>\n",
       "    <tr style=\"text-align: right;\">\n",
       "      <th></th>\n",
       "      <th>R&amp;D</th>\n",
       "      <th>Administration</th>\n",
       "      <th>Marketing</th>\n",
       "      <th>Profit</th>\n",
       "    </tr>\n",
       "  </thead>\n",
       "  <tbody>\n",
       "    <tr>\n",
       "      <th>R&amp;D</th>\n",
       "      <td>1.000000</td>\n",
       "      <td>0.241955</td>\n",
       "      <td>0.724248</td>\n",
       "      <td>0.972900</td>\n",
       "    </tr>\n",
       "    <tr>\n",
       "      <th>Administration</th>\n",
       "      <td>0.241955</td>\n",
       "      <td>1.000000</td>\n",
       "      <td>-0.032154</td>\n",
       "      <td>0.200717</td>\n",
       "    </tr>\n",
       "    <tr>\n",
       "      <th>Marketing</th>\n",
       "      <td>0.724248</td>\n",
       "      <td>-0.032154</td>\n",
       "      <td>1.000000</td>\n",
       "      <td>0.747766</td>\n",
       "    </tr>\n",
       "    <tr>\n",
       "      <th>Profit</th>\n",
       "      <td>0.972900</td>\n",
       "      <td>0.200717</td>\n",
       "      <td>0.747766</td>\n",
       "      <td>1.000000</td>\n",
       "    </tr>\n",
       "  </tbody>\n",
       "</table>\n",
       "</div>"
      ],
      "text/plain": [
       "                     R&D  Administration  Marketing    Profit\n",
       "R&D             1.000000        0.241955   0.724248  0.972900\n",
       "Administration  0.241955        1.000000  -0.032154  0.200717\n",
       "Marketing       0.724248       -0.032154   1.000000  0.747766\n",
       "Profit          0.972900        0.200717   0.747766  1.000000"
      ]
     },
     "execution_count": 120,
     "metadata": {},
     "output_type": "execute_result"
    }
   ],
   "source": [
    "df.corr()"
   ]
  },
  {
   "cell_type": "code",
   "execution_count": 121,
   "metadata": {},
   "outputs": [
    {
     "data": {
      "text/plain": [
       "<matplotlib.axes._subplots.AxesSubplot at 0x12c050d30>"
      ]
     },
     "execution_count": 121,
     "metadata": {},
     "output_type": "execute_result"
    },
    {
     "data": {
      "image/png": "[encoded data removed]",
      "text/plain": [
       "<Figure size 432x288 with 2 Axes>"
      ]
     },
     "metadata": {},
     "output_type": "display_data"
    }
   ],
   "source": [
    "sns.heatmap(df.corr(), annot=True)"
   ]
  },
  {
   "cell_type": "markdown",
   "metadata": {},
   "source": [
    "Avec une corrélation de 0.97, ** la R&D est donc le contributeur principal du profit**."
   ]
  },
  {
   "cell_type": "markdown",
   "metadata": {},
   "source": [
    "# 3. Préparation des données"
   ]
  },
  {
   "cell_type": "markdown",
   "metadata": {},
   "source": [
    "# 3.1 Création du modèle"
   ]
  },
  {
   "cell_type": "code",
   "execution_count": 122,
   "metadata": {},
   "outputs": [],
   "source": [
    "#On utilise la libraire SciKitlearn et importe la classe train_test_split et LinearRegression\n",
    "\n",
    "from sklearn.model_selection import train_test_split\n",
    "from sklearn.linear_model import LinearRegression"
   ]
  },
  {
   "cell_type": "code",
   "execution_count": 123,
   "metadata": {},
   "outputs": [],
   "source": [
    "#features\n",
    "#X sont les variables indépendantes (R&D,Marketing,Administration, Ville)\n",
    "X = df.iloc[:,:-1].values\n",
    "#prédiction\n",
    "#y sont les variables dépendantes (Profit)\n",
    "y = df.iloc[:,4].values"
   ]
  },
  {
   "cell_type": "code",
   "execution_count": 124,
   "metadata": {},
   "outputs": [
    {
     "name": "stdout",
     "output_type": "stream",
     "text": [
      "array([[165349.2, 136897.8, 471784.1, 'Paris'],\n",
      "       [162597.7, 151377.59, 443898.53, 'Strasbourg'],\n",
      "       [153441.51, 101145.55, 407934.54, 'Lyon'],\n",
      "       [144372.41, 118671.85, 383199.62, 'Paris'],\n",
      "       [142107.34, 91391.77, 366168.42, 'Lyon'],\n",
      "       [131876.9, 99814.71, 362861.36, 'Paris'],\n",
      "       [134615.46, 147198.87, 127716.82, 'Strasbourg'],\n",
      "       [130298.13, 145530.06, 323876.68, 'Lyon'],\n",
      "       [120542.52, 148718.95, 311613.29, 'Paris'],\n",
      "       [123334.88, 108679.17, 304981.62, 'Strasbourg'],\n",
      "       [101913.08, 110594.11, 229160.95, 'Lyon'],\n",
      "       [100671.96, 91790.61, 249744.55, 'Strasbourg'],\n",
      "       [93863.75, 127320.38, 249839.44, 'Lyon'],\n",
      "       [91992.39, 135495.07, 252664.93, 'Strasbourg'],\n",
      "       [119943.24, 156547.42, 256512.92, 'Lyon'],\n",
      "       [114523.61, 122616.84, 261776.23, 'Paris'],\n",
      "       [78013.11, 121597.55, 264346.06, 'Strasbourg'],\n",
      "       [94657.16, 145077.58, 282574.31, 'Paris'],\n",
      "       [91749.16, 114175.79, 294919.57, 'Lyon'],\n",
      "       [86419.7, 153514.11, 0.0, 'Paris'],\n",
      "       [76253.86, 113867.3, 298664.47, 'Strasbourg'],\n",
      "       [78389.47, 153773.43, 299737.29, 'Paris'],\n",
      "       [73994.56, 122782.75, 303319.26, 'Lyon'],\n",
      "       [67532.53, 105751.03, 304768.73, 'Lyon'],\n",
      "       [77044.01, 99281.34, 140574.81, 'Paris'],\n",
      "       [64664.71, 139553.16, 137962.62, 'Strasbourg'],\n",
      "       [75328.87, 144135.98, 134050.07, 'Lyon'],\n",
      "       [72107.6, 127864.55, 353183.81, 'Paris'],\n",
      "       [66051.52, 182645.56, 118148.2, 'Lyon'],\n",
      "       [65605.48, 153032.06, 107138.38, 'Paris'],\n",
      "       [61994.48, 115641.28, 91131.24, 'Lyon'],\n",
      "       [61136.38, 152701.92, 88218.23, 'Paris'],\n",
      "       [63408.86, 129219.61, 46085.25, 'Strasbourg'],\n",
      "       [55493.95, 103057.49, 214634.81, 'Lyon'],\n",
      "       [46426.07, 157693.92, 210797.67, 'Strasbourg'],\n",
      "       [46014.02, 85047.44, 205517.64, 'Paris'],\n",
      "       [28663.76, 127056.21, 201126.82, 'Lyon'],\n",
      "       [44069.95, 51283.14, 197029.42, 'Strasbourg'],\n",
      "       [20229.59, 65947.93, 185265.1, 'Paris'],\n",
      "       [38558.51, 82982.09, 174999.3, 'Strasbourg'],\n",
      "       [28754.33, 118546.05, 172795.67, 'Strasbourg'],\n",
      "       [27892.92, 84710.77, 164470.71, 'Lyon'],\n",
      "       [23640.93, 96189.63, 148001.11, 'Strasbourg'],\n",
      "       [15505.73, 127382.3, 35534.17, 'Paris'],\n",
      "       [22177.74, 154806.14, 28334.72, 'Strasbourg'],\n",
      "       [1000.23, 124153.04, 1903.93, 'Paris'],\n",
      "       [1315.46, 115816.21, 297114.46, 'Lyon'],\n",
      "       [0.0, 135426.92, 0.0, 'Strasbourg'],\n",
      "       [542.05, 51743.15, 0.0, 'Paris'],\n",
      "       [0.0, 116983.8, 45173.06, 'Strasbourg']], dtype=object)\n"
     ]
    }
   ],
   "source": [
    "#utilisation du module pprint (PrettyPrint)\n",
    "#C'est plus joli qu'un print classique non ?\n",
    "pp = pprint.PrettyPrinter(indent=4)\n",
    "pp.pprint(X)"
   ]
  },
  {
   "cell_type": "code",
   "execution_count": 125,
   "metadata": {},
   "outputs": [
    {
     "name": "stdout",
     "output_type": "stream",
     "text": [
      "array([192261.83, 191792.06, 191050.39, 182901.99, 166187.94, 156991.12,\n",
      "       156122.51, 155752.6 , 152211.77, 149759.96, 146121.95, 144259.4 ,\n",
      "       141585.52, 134307.35, 132602.65, 129917.04, 126992.93, 125370.37,\n",
      "       124266.9 , 122776.86, 118474.03, 111313.02, 110352.25, 108733.99,\n",
      "       108552.04, 107404.34, 105733.54, 105008.31, 103282.38, 101004.64,\n",
      "        99937.59,  97483.56,  97427.84,  96778.92,  96712.8 ,  96479.51,\n",
      "        90708.19,  89949.14,  81229.06,  81005.76,  78239.91,  77798.83,\n",
      "        71498.49,  69758.98,  65200.33,  64926.08,  49490.75,  42559.73,\n",
      "        35673.41,  14681.4 ])\n"
     ]
    }
   ],
   "source": [
    "pp.pprint(y)"
   ]
  },
  {
   "cell_type": "markdown",
   "metadata": {},
   "source": [
    "A ce point, on va commencer à créer notre modèle.\n",
    "Cependant, nous avons 4 features dont une catégorique : les villes (string)\n",
    "Il faudrait les transformer en nombre car on ne fait pas de machine learning avec des strings, mais seulement de nombres!"
   ]
  },
  {
   "cell_type": "code",
   "execution_count": 126,
   "metadata": {},
   "outputs": [
    {
     "name": "stdout",
     "output_type": "stream",
     "text": [
      "[[0.0 1.0 0.0 165349.2 136897.8 471784.1]\n",
      " [0.0 0.0 1.0 162597.7 151377.59 443898.53]\n",
      " [1.0 0.0 0.0 153441.51 101145.55 407934.54]\n",
      " [0.0 1.0 0.0 144372.41 118671.85 383199.62]\n",
      " [1.0 0.0 0.0 142107.34 91391.77 366168.42]\n",
      " [0.0 1.0 0.0 131876.9 99814.71 362861.36]\n",
      " [0.0 0.0 1.0 134615.46 147198.87 127716.82]\n",
      " [1.0 0.0 0.0 130298.13 145530.06 323876.68]\n",
      " [0.0 1.0 0.0 120542.52 148718.95 311613.29]\n",
      " [0.0 0.0 1.0 123334.88 108679.17 304981.62]\n",
      " [1.0 0.0 0.0 101913.08 110594.11 229160.95]\n",
      " [0.0 0.0 1.0 100671.96 91790.61 249744.55]\n",
      " [1.0 0.0 0.0 93863.75 127320.38 249839.44]\n",
      " [0.0 0.0 1.0 91992.39 135495.07 252664.93]\n",
      " [1.0 0.0 0.0 119943.24 156547.42 256512.92]\n",
      " [0.0 1.0 0.0 114523.61 122616.84 261776.23]\n",
      " [0.0 0.0 1.0 78013.11 121597.55 264346.06]\n",
      " [0.0 1.0 0.0 94657.16 145077.58 282574.31]\n",
      " [1.0 0.0 0.0 91749.16 114175.79 294919.57]\n",
      " [0.0 1.0 0.0 86419.7 153514.11 0.0]\n",
      " [0.0 0.0 1.0 76253.86 113867.3 298664.47]\n",
      " [0.0 1.0 0.0 78389.47 153773.43 299737.29]\n",
      " [1.0 0.0 0.0 73994.56 122782.75 303319.26]\n",
      " [1.0 0.0 0.0 67532.53 105751.03 304768.73]\n",
      " [0.0 1.0 0.0 77044.01 99281.34 140574.81]\n",
      " [0.0 0.0 1.0 64664.71 139553.16 137962.62]\n",
      " [1.0 0.0 0.0 75328.87 144135.98 134050.07]\n",
      " [0.0 1.0 0.0 72107.6 127864.55 353183.81]\n",
      " [1.0 0.0 0.0 66051.52 182645.56 118148.2]\n",
      " [0.0 1.0 0.0 65605.48 153032.06 107138.38]\n",
      " [1.0 0.0 0.0 61994.48 115641.28 91131.24]\n",
      " [0.0 1.0 0.0 61136.38 152701.92 88218.23]\n",
      " [0.0 0.0 1.0 63408.86 129219.61 46085.25]\n",
      " [1.0 0.0 0.0 55493.95 103057.49 214634.81]\n",
      " [0.0 0.0 1.0 46426.07 157693.92 210797.67]\n",
      " [0.0 1.0 0.0 46014.02 85047.44 205517.64]\n",
      " [1.0 0.0 0.0 28663.76 127056.21 201126.82]\n",
      " [0.0 0.0 1.0 44069.95 51283.14 197029.42]\n",
      " [0.0 1.0 0.0 20229.59 65947.93 185265.1]\n",
      " [0.0 0.0 1.0 38558.51 82982.09 174999.3]\n",
      " [0.0 0.0 1.0 28754.33 118546.05 172795.67]\n",
      " [1.0 0.0 0.0 27892.92 84710.77 164470.71]\n",
      " [0.0 0.0 1.0 23640.93 96189.63 148001.11]\n",
      " [0.0 1.0 0.0 15505.73 127382.3 35534.17]\n",
      " [0.0 0.0 1.0 22177.74 154806.14 28334.72]\n",
      " [0.0 1.0 0.0 1000.23 124153.04 1903.93]\n",
      " [1.0 0.0 0.0 1315.46 115816.21 297114.46]\n",
      " [0.0 0.0 1.0 0.0 135426.92 0.0]\n",
      " [0.0 1.0 0.0 542.05 51743.15 0.0]\n",
      " [0.0 0.0 1.0 0.0 116983.8 45173.06]]\n"
     ]
    }
   ],
   "source": [
    "#import des fonctions d'encodage\n",
    "\n",
    "from sklearn.preprocessing import LabelEncoder,OneHotEncoder\n",
    "from sklearn.compose import ColumnTransformer\n",
    "\n",
    "# On encode toute la colonne 'villes'\n",
    "labelencoder_X = LabelEncoder()\n",
    "X[:,3] = labelencoder_X.fit_transform(X[:,3])\n",
    "\n",
    "# Travailler sur la variable catégorique \"villes\"\n",
    "ct = ColumnTransformer([(\"villes\", OneHotEncoder(), [3])], remainder = 'passthrough')\n",
    "\n",
    "#on applique la méthode à notre matrice X                               \n",
    "# on crée des var de test(donc plusieurs colonnes représentant les villes)\n",
    "X = ct.fit_transform(X)\n",
    "print(X)"
   ]
  },
  {
   "cell_type": "code",
   "execution_count": 127,
   "metadata": {},
   "outputs": [
    {
     "name": "stdout",
     "output_type": "stream",
     "text": [
      "[[1.0 0.0 165349.2 136897.8 471784.1]\n",
      " [0.0 1.0 162597.7 151377.59 443898.53]\n",
      " [0.0 0.0 153441.51 101145.55 407934.54]\n",
      " [1.0 0.0 144372.41 118671.85 383199.62]\n",
      " [0.0 0.0 142107.34 91391.77 366168.42]\n",
      " [1.0 0.0 131876.9 99814.71 362861.36]\n",
      " [0.0 1.0 134615.46 147198.87 127716.82]\n",
      " [0.0 0.0 130298.13 145530.06 323876.68]\n",
      " [1.0 0.0 120542.52 148718.95 311613.29]\n",
      " [0.0 1.0 123334.88 108679.17 304981.62]\n",
      " [0.0 0.0 101913.08 110594.11 229160.95]\n",
      " [0.0 1.0 100671.96 91790.61 249744.55]\n",
      " [0.0 0.0 93863.75 127320.38 249839.44]\n",
      " [0.0 1.0 91992.39 135495.07 252664.93]\n",
      " [0.0 0.0 119943.24 156547.42 256512.92]\n",
      " [1.0 0.0 114523.61 122616.84 261776.23]\n",
      " [0.0 1.0 78013.11 121597.55 264346.06]\n",
      " [1.0 0.0 94657.16 145077.58 282574.31]\n",
      " [0.0 0.0 91749.16 114175.79 294919.57]\n",
      " [1.0 0.0 86419.7 153514.11 0.0]\n",
      " [0.0 1.0 76253.86 113867.3 298664.47]\n",
      " [1.0 0.0 78389.47 153773.43 299737.29]\n",
      " [0.0 0.0 73994.56 122782.75 303319.26]\n",
      " [0.0 0.0 67532.53 105751.03 304768.73]\n",
      " [1.0 0.0 77044.01 99281.34 140574.81]\n",
      " [0.0 1.0 64664.71 139553.16 137962.62]\n",
      " [0.0 0.0 75328.87 144135.98 134050.07]\n",
      " [1.0 0.0 72107.6 127864.55 353183.81]\n",
      " [0.0 0.0 66051.52 182645.56 118148.2]\n",
      " [1.0 0.0 65605.48 153032.06 107138.38]\n",
      " [0.0 0.0 61994.48 115641.28 91131.24]\n",
      " [1.0 0.0 61136.38 152701.92 88218.23]\n",
      " [0.0 1.0 63408.86 129219.61 46085.25]\n",
      " [0.0 0.0 55493.95 103057.49 214634.81]\n",
      " [0.0 1.0 46426.07 157693.92 210797.67]\n",
      " [1.0 0.0 46014.02 85047.44 205517.64]\n",
      " [0.0 0.0 28663.76 127056.21 201126.82]\n",
      " [0.0 1.0 44069.95 51283.14 197029.42]\n",
      " [1.0 0.0 20229.59 65947.93 185265.1]\n",
      " [0.0 1.0 38558.51 82982.09 174999.3]\n",
      " [0.0 1.0 28754.33 118546.05 172795.67]\n",
      " [0.0 0.0 27892.92 84710.77 164470.71]\n",
      " [0.0 1.0 23640.93 96189.63 148001.11]\n",
      " [1.0 0.0 15505.73 127382.3 35534.17]\n",
      " [0.0 1.0 22177.74 154806.14 28334.72]\n",
      " [1.0 0.0 1000.23 124153.04 1903.93]\n",
      " [0.0 0.0 1315.46 115816.21 297114.46]\n",
      " [0.0 1.0 0.0 135426.92 0.0]\n",
      " [1.0 0.0 542.05 51743.15 0.0]\n",
      " [0.0 1.0 0.0 116983.8 45173.06]]\n"
     ]
    }
   ],
   "source": [
    "#éviter la multicolinéairté\n",
    "\n",
    "X = X[:,1:]\n",
    "print(X)"
   ]
  },
  {
   "cell_type": "markdown",
   "metadata": {},
   "source": [
    "## 3.2 Entrainement"
   ]
  },
  {
   "cell_type": "code",
   "execution_count": 128,
   "metadata": {},
   "outputs": [],
   "source": [
    "#On sépare les variables indépendantes et dépendantes de manière aléatoire en 2 groupes (test et train)\n",
    "X_train,X_test, y_train, y_test = train_test_split(X,y,test_size = 1/3, random_state = 0)"
   ]
  },
  {
   "cell_type": "code",
   "execution_count": 129,
   "metadata": {},
   "outputs": [],
   "source": [
    "#On initialise la régression linéaire\n",
    "regressor = LinearRegression()"
   ]
  },
  {
   "cell_type": "code",
   "execution_count": 130,
   "metadata": {},
   "outputs": [
    {
     "data": {
      "text/plain": [
       "LinearRegression()"
      ]
     },
     "execution_count": 130,
     "metadata": {},
     "output_type": "execute_result"
    }
   ],
   "source": [
    "#On produit un modèle à partir des données d'entrainement\n",
    "regressor.fit(X_train, y_train)"
   ]
  },
  {
   "cell_type": "code",
   "execution_count": 131,
   "metadata": {},
   "outputs": [],
   "source": [
    "#Nous avons ainsi un modèle pouvant prédire y.\n",
    "y_pred = regressor.predict(X_test)"
   ]
  },
  {
   "cell_type": "code",
   "execution_count": 132,
   "metadata": {},
   "outputs": [
    {
     "name": "stdout",
     "output_type": "stream",
     "text": [
      "103282.38    -->    111616.64259435349\n",
      "144259.4    -->    132709.39466309024\n",
      "146121.95    -->    140155.1103375957\n",
      "77798.83    -->    76099.20398176197\n",
      "191050.39    -->    186329.94240311027\n",
      "105008.31    -->    112822.19807244225\n",
      "81229.06    -->    63002.00394821789\n",
      "97483.56    -->    99107.1042810347\n",
      "110352.25    -->    119287.7547335141\n",
      "166187.94    -->    175522.8386468471\n",
      "96778.92    -->    101000.69861481125\n",
      "96479.51    -->    85772.9929324359\n",
      "105733.54    -->    117713.7648150632\n",
      "96712.8    -->    90230.88085211253\n",
      "124266.9    -->    133375.04389416258\n",
      "155752.6    -->    167530.54765779755\n",
      "132602.65    -->    158013.54602021637\n"
     ]
    }
   ],
   "source": [
    "#comparons le profit réel vs le profit prédit\n",
    "#numpy.nditer permet d'itérer un array\n",
    "\n",
    "for i,j in np.nditer((y_test, y_pred)):\n",
    "    print(i,\"   -->   \", j)  "
   ]
  },
  {
   "cell_type": "markdown",
   "metadata": {},
   "source": [
    "## 3.3 Analyse de notre premier modèle"
   ]
  },
  {
   "cell_type": "code",
   "execution_count": 133,
   "metadata": {},
   "outputs": [
    {
     "name": "stdout",
     "output_type": "stream",
     "text": [
      "R2_train : 0.9576035764205424\n",
      "Coefficients : [-6.26486506e+03 -5.92663381e+03  8.28371991e-01  5.03972419e-02\n",
      "  2.21861926e-02]\n",
      "y pour (x1,...,xn)=0 : [45075.32230849]\n",
      "Train sample : 0.9576035764205424\n",
      "Test sample : 0.8752655285787139\n"
     ]
    }
   ],
   "source": [
    "#On compare les données de test avec les prédictions\n",
    "#print(sklearn.metrics.accuracy_score(Y, y_pred)\n",
    "\n",
    "#afficher le score R² du train sample\n",
    "print(\"R2_train :\",regressor.score(X_train, y_train))\n",
    "#trouver notre coefficient du modèle\n",
    "print(\"Coefficients :\",regressor.coef_)\n",
    "#notre constante issu de l'hypothèse H0\n",
    "print(\"y pour (x1,...,xn)=0 :\",regressor.predict([[0,0,0,0,0]]))\n",
    "\n",
    "#afficher nos scores R²\n",
    "print(\"Train sample :\",regressor.score(X_train, y_train))\n",
    "print(\"Test sample :\",regressor.score(X_test,y_test))"
   ]
  },
  {
   "cell_type": "markdown",
   "metadata": {},
   "source": [
    "Le R² de notre échantillon Train tend vers 1 ce qui signifie qu'on va pouvoir en tirer quelque chose. \n",
    "Notre test sample lui, n'est pas très éloigné du train sample, il va falloir améliorer cela."
   ]
  },
  {
   "cell_type": "markdown",
   "metadata": {},
   "source": [
    "R2 est très proche de 1, nous assurant donc la validité du modèle.  \n",
    "Nous obtenons ainsi une formule type :\n",
    "\n",
    "$y$ $=$ $41011.48935223$ + $0.828371991$ $X_R$ + $0.0503972419$ $X_M$ + $0.0221861926$ $X_A$ + $0.0062648$ $X_V$\n",
    "\n",
    "Où $y$ représente le profit  \n",
    "$X_R$ les dépenses en R&D  \n",
    "$X_A$ les dépenses en Administratif  \n",
    "$X_M$ les dépenses en Marketing  \n",
    "$X_V$ la géolocalisation (encodé)"
   ]
  },
  {
   "cell_type": "markdown",
   "metadata": {},
   "source": [
    "# 4. Trouver le modèle optimal"
   ]
  },
  {
   "cell_type": "markdown",
   "metadata": {},
   "source": [
    "## 4.1 Utilisation de la méthode Backward Elimination\n",
    "\n",
    "**Backward Elimination**\n",
    "C'est une méthode de sélection des features dans un modèle de machine learning. \n",
    "L'objectif est d'arriver à un modèle déchargé des features qui n'ont pas vraiment d'intérêt significatif vis-à-vis de notre variable dépendante (Profit) et sa prédiction en sortie.\n",
    "\n",
    "On va donc simplifier notre modèle\n",
    "\n",
    "Basé sur notre analyse du début, on va surement pouvoir confirmer nos hypothèses déduites des corrélations ; seul la R&D est hautement significative dans la prédiction du y : Profit\n",
    "\n",
    "Les features non nécessaires augmentent la complexité du modèle et si l'on veut le meilleur résultat il faut le garder simple."
   ]
  },
  {
   "cell_type": "markdown",
   "metadata": {},
   "source": [
    "## 4.2 Préparation\n",
    "\n",
    "Par défaut la formule prend pas de constante donc on va essayer de surpasser ça en créant une colonne de 1 tel que $\\theta_0$ * $X_0$ = 1 que l'on place au début de $X$"
   ]
  },
  {
   "cell_type": "code",
   "execution_count": 49,
   "metadata": {},
   "outputs": [
    {
     "name": "stdout",
     "output_type": "stream",
     "text": [
      "[[1 1 1.0 0.0 165349.2 136897.8 471784.1]\n",
      " [1 1 0.0 1.0 162597.7 151377.59 443898.53]\n",
      " [1 1 0.0 0.0 153441.51 101145.55 407934.54]\n",
      " [1 1 1.0 0.0 144372.41 118671.85 383199.62]\n",
      " [1 1 0.0 0.0 142107.34 91391.77 366168.42]\n",
      " [1 1 1.0 0.0 131876.9 99814.71 362861.36]\n",
      " [1 1 0.0 1.0 134615.46 147198.87 127716.82]\n",
      " [1 1 0.0 0.0 130298.13 145530.06 323876.68]\n",
      " [1 1 1.0 0.0 120542.52 148718.95 311613.29]\n",
      " [1 1 0.0 1.0 123334.88 108679.17 304981.62]\n",
      " [1 1 0.0 0.0 101913.08 110594.11 229160.95]\n",
      " [1 1 0.0 1.0 100671.96 91790.61 249744.55]\n",
      " [1 1 0.0 0.0 93863.75 127320.38 249839.44]\n",
      " [1 1 0.0 1.0 91992.39 135495.07 252664.93]\n",
      " [1 1 0.0 0.0 119943.24 156547.42 256512.92]\n",
      " [1 1 1.0 0.0 114523.61 122616.84 261776.23]\n",
      " [1 1 0.0 1.0 78013.11 121597.55 264346.06]\n",
      " [1 1 1.0 0.0 94657.16 145077.58 282574.31]\n",
      " [1 1 0.0 0.0 91749.16 114175.79 294919.57]\n",
      " [1 1 1.0 0.0 86419.7 153514.11 0.0]\n",
      " [1 1 0.0 1.0 76253.86 113867.3 298664.47]\n",
      " [1 1 1.0 0.0 78389.47 153773.43 299737.29]\n",
      " [1 1 0.0 0.0 73994.56 122782.75 303319.26]\n",
      " [1 1 0.0 0.0 67532.53 105751.03 304768.73]\n",
      " [1 1 1.0 0.0 77044.01 99281.34 140574.81]\n",
      " [1 1 0.0 1.0 64664.71 139553.16 137962.62]\n",
      " [1 1 0.0 0.0 75328.87 144135.98 134050.07]\n",
      " [1 1 1.0 0.0 72107.6 127864.55 353183.81]\n",
      " [1 1 0.0 0.0 66051.52 182645.56 118148.2]\n",
      " [1 1 1.0 0.0 65605.48 153032.06 107138.38]\n",
      " [1 1 0.0 0.0 61994.48 115641.28 91131.24]\n",
      " [1 1 1.0 0.0 61136.38 152701.92 88218.23]\n",
      " [1 1 0.0 1.0 63408.86 129219.61 46085.25]\n",
      " [1 1 0.0 0.0 55493.95 103057.49 214634.81]\n",
      " [1 1 0.0 1.0 46426.07 157693.92 210797.67]\n",
      " [1 1 1.0 0.0 46014.02 85047.44 205517.64]\n",
      " [1 1 0.0 0.0 28663.76 127056.21 201126.82]\n",
      " [1 1 0.0 1.0 44069.95 51283.14 197029.42]\n",
      " [1 1 1.0 0.0 20229.59 65947.93 185265.1]\n",
      " [1 1 0.0 1.0 38558.51 82982.09 174999.3]\n",
      " [1 1 0.0 1.0 28754.33 118546.05 172795.67]\n",
      " [1 1 0.0 0.0 27892.92 84710.77 164470.71]\n",
      " [1 1 0.0 1.0 23640.93 96189.63 148001.11]\n",
      " [1 1 1.0 0.0 15505.73 127382.3 35534.17]\n",
      " [1 1 0.0 1.0 22177.74 154806.14 28334.72]\n",
      " [1 1 1.0 0.0 1000.23 124153.04 1903.93]\n",
      " [1 1 0.0 0.0 1315.46 115816.21 297114.46]\n",
      " [1 1 0.0 1.0 0.0 135426.92 0.0]\n",
      " [1 1 1.0 0.0 542.05 51743.15 0.0]\n",
      " [1 1 0.0 1.0 0.0 116983.8 45173.06]]\n"
     ]
    }
   ],
   "source": [
    "X = np.append(arr  = np.ones((50,1)).astype(int),values = X, axis = 1)\n",
    "print(X)"
   ]
  },
  {
   "cell_type": "markdown",
   "metadata": {},
   "source": [
    "## 4.2 Mise en application"
   ]
  },
  {
   "cell_type": "code",
   "execution_count": 53,
   "metadata": {},
   "outputs": [],
   "source": [
    "import statsmodels.api as sm"
   ]
  },
  {
   "cell_type": "code",
   "execution_count": 54,
   "metadata": {},
   "outputs": [
    {
     "data": {
      "text/html": [
       "<table class=\"simpletable\">\n",
       "<caption>OLS Regression Results</caption>\n",
       "<tr>\n",
       "  <th>Dep. Variable:</th>            <td>y</td>        <th>  R-squared:         </th> <td>   0.948</td>\n",
       "</tr>\n",
       "<tr>\n",
       "  <th>Model:</th>                   <td>OLS</td>       <th>  Adj. R-squared:    </th> <td>   0.943</td>\n",
       "</tr>\n",
       "<tr>\n",
       "  <th>Method:</th>             <td>Least Squares</td>  <th>  F-statistic:       </th> <td>   205.0</td>\n",
       "</tr>\n",
       "<tr>\n",
       "  <th>Date:</th>             <td>Sun, 17 Jan 2021</td> <th>  Prob (F-statistic):</th> <td>2.90e-28</td>\n",
       "</tr>\n",
       "<tr>\n",
       "  <th>Time:</th>                 <td>21:30:24</td>     <th>  Log-Likelihood:    </th> <td> -526.75</td>\n",
       "</tr>\n",
       "<tr>\n",
       "  <th>No. Observations:</th>      <td>    50</td>      <th>  AIC:               </th> <td>   1064.</td>\n",
       "</tr>\n",
       "<tr>\n",
       "  <th>Df Residuals:</th>          <td>    45</td>      <th>  BIC:               </th> <td>   1073.</td>\n",
       "</tr>\n",
       "<tr>\n",
       "  <th>Df Model:</th>              <td>     4</td>      <th>                     </th>     <td> </td>   \n",
       "</tr>\n",
       "<tr>\n",
       "  <th>Covariance Type:</th>      <td>nonrobust</td>    <th>                     </th>     <td> </td>   \n",
       "</tr>\n",
       "</table>\n",
       "<table class=\"simpletable\">\n",
       "<tr>\n",
       "    <td></td>       <th>coef</th>     <th>std err</th>      <th>t</th>      <th>P>|t|</th>  <th>[0.025</th>    <th>0.975]</th>  \n",
       "</tr>\n",
       "<tr>\n",
       "  <th>const</th> <td> 2.785e+04</td> <td> 3251.266</td> <td>    8.565</td> <td> 0.000</td> <td> 2.13e+04</td> <td> 3.44e+04</td>\n",
       "</tr>\n",
       "<tr>\n",
       "  <th>x1</th>    <td> 2.785e+04</td> <td> 3251.266</td> <td>    8.565</td> <td> 0.000</td> <td> 2.13e+04</td> <td> 3.44e+04</td>\n",
       "</tr>\n",
       "<tr>\n",
       "  <th>x2</th>    <td>-1130.4509</td> <td> 3344.220</td> <td>   -0.338</td> <td> 0.737</td> <td>-7866.055</td> <td> 5605.154</td>\n",
       "</tr>\n",
       "<tr>\n",
       "  <th>x3</th>    <td>-1091.1075</td> <td> 3377.087</td> <td>   -0.323</td> <td> 0.748</td> <td>-7892.910</td> <td> 5710.695</td>\n",
       "</tr>\n",
       "<tr>\n",
       "  <th>x4</th>    <td>    0.8609</td> <td>    0.031</td> <td>   27.665</td> <td> 0.000</td> <td>    0.798</td> <td>    0.924</td>\n",
       "</tr>\n",
       "<tr>\n",
       "  <th>x5</th>    <td>   -0.0527</td> <td>    0.050</td> <td>   -1.045</td> <td> 0.301</td> <td>   -0.154</td> <td>    0.049</td>\n",
       "</tr>\n",
       "</table>\n",
       "<table class=\"simpletable\">\n",
       "<tr>\n",
       "  <th>Omnibus:</th>       <td>14.275</td> <th>  Durbin-Watson:     </th> <td>   1.197</td>\n",
       "</tr>\n",
       "<tr>\n",
       "  <th>Prob(Omnibus):</th> <td> 0.001</td> <th>  Jarque-Bera (JB):  </th> <td>  19.260</td>\n",
       "</tr>\n",
       "<tr>\n",
       "  <th>Skew:</th>          <td>-0.953</td> <th>  Prob(JB):          </th> <td>6.57e-05</td>\n",
       "</tr>\n",
       "<tr>\n",
       "  <th>Kurtosis:</th>      <td> 5.369</td> <th>  Cond. No.          </th> <td>2.02e+17</td>\n",
       "</tr>\n",
       "</table><br/><br/>Warnings:<br/>[1] Standard Errors assume that the covariance matrix of the errors is correctly specified.<br/>[2] The smallest eigenvalue is 2.64e-23. This might indicate that there are<br/>strong multicollinearity problems or that the design matrix is singular."
      ],
      "text/plain": [
       "<class 'statsmodels.iolib.summary.Summary'>\n",
       "\"\"\"\n",
       "                            OLS Regression Results                            \n",
       "==============================================================================\n",
       "Dep. Variable:                      y   R-squared:                       0.948\n",
       "Model:                            OLS   Adj. R-squared:                  0.943\n",
       "Method:                 Least Squares   F-statistic:                     205.0\n",
       "Date:                Sun, 17 Jan 2021   Prob (F-statistic):           2.90e-28\n",
       "Time:                        21:30:24   Log-Likelihood:                -526.75\n",
       "No. Observations:                  50   AIC:                             1064.\n",
       "Df Residuals:                      45   BIC:                             1073.\n",
       "Df Model:                           4                                         \n",
       "Covariance Type:            nonrobust                                         \n",
       "==============================================================================\n",
       "                 coef    std err          t      P>|t|      [0.025      0.975]\n",
       "------------------------------------------------------------------------------\n",
       "const       2.785e+04   3251.266      8.565      0.000    2.13e+04    3.44e+04\n",
       "x1          2.785e+04   3251.266      8.565      0.000    2.13e+04    3.44e+04\n",
       "x2         -1130.4509   3344.220     -0.338      0.737   -7866.055    5605.154\n",
       "x3         -1091.1075   3377.087     -0.323      0.748   -7892.910    5710.695\n",
       "x4             0.8609      0.031     27.665      0.000       0.798       0.924\n",
       "x5            -0.0527      0.050     -1.045      0.301      -0.154       0.049\n",
       "==============================================================================\n",
       "Omnibus:                       14.275   Durbin-Watson:                   1.197\n",
       "Prob(Omnibus):                  0.001   Jarque-Bera (JB):               19.260\n",
       "Skew:                          -0.953   Prob(JB):                     6.57e-05\n",
       "Kurtosis:                       5.369   Cond. No.                     2.02e+17\n",
       "==============================================================================\n",
       "\n",
       "Warnings:\n",
       "[1] Standard Errors assume that the covariance matrix of the errors is correctly specified.\n",
       "[2] The smallest eigenvalue is 2.64e-23. This might indicate that there are\n",
       "strong multicollinearity problems or that the design matrix is singular.\n",
       "\"\"\""
      ]
     },
     "execution_count": 54,
     "metadata": {},
     "output_type": "execute_result"
    }
   ],
   "source": [
    "#on initialise notre X optimisé en vérifiant que ce soit bien uniquement des float\n",
    "X_opt =X[:, [0,1,2,3,4,5]].astype(float)\n",
    "# 0 = fake constante\n",
    "# 1,2 = ville encodée\n",
    "# 3 = R&D\n",
    "# 4 = Administration\n",
    "# 5 = Marketing\n",
    "\n",
    "\n",
    "regressor_OLS = sm.OLS(y,X_opt).fit()  \n",
    "regressor_OLS.summary()"
   ]
  },
  {
   "cell_type": "code",
   "execution_count": 55,
   "metadata": {},
   "outputs": [
    {
     "data": {
      "text/html": [
       "<table class=\"simpletable\">\n",
       "<caption>OLS Regression Results</caption>\n",
       "<tr>\n",
       "  <th>Dep. Variable:</th>            <td>y</td>        <th>  R-squared:         </th> <td>   0.948</td>\n",
       "</tr>\n",
       "<tr>\n",
       "  <th>Model:</th>                   <td>OLS</td>       <th>  Adj. R-squared:    </th> <td>   0.944</td>\n",
       "</tr>\n",
       "<tr>\n",
       "  <th>Method:</th>             <td>Least Squares</td>  <th>  F-statistic:       </th> <td>   278.7</td>\n",
       "</tr>\n",
       "<tr>\n",
       "  <th>Date:</th>             <td>Sun, 17 Jan 2021</td> <th>  Prob (F-statistic):</th> <td>1.68e-29</td>\n",
       "</tr>\n",
       "<tr>\n",
       "  <th>Time:</th>                 <td>21:30:30</td>     <th>  Log-Likelihood:    </th> <td> -526.82</td>\n",
       "</tr>\n",
       "<tr>\n",
       "  <th>No. Observations:</th>      <td>    50</td>      <th>  AIC:               </th> <td>   1062.</td>\n",
       "</tr>\n",
       "<tr>\n",
       "  <th>Df Residuals:</th>          <td>    46</td>      <th>  BIC:               </th> <td>   1069.</td>\n",
       "</tr>\n",
       "<tr>\n",
       "  <th>Df Model:</th>              <td>     3</td>      <th>                     </th>     <td> </td>   \n",
       "</tr>\n",
       "<tr>\n",
       "  <th>Covariance Type:</th>      <td>nonrobust</td>    <th>                     </th>     <td> </td>   \n",
       "</tr>\n",
       "</table>\n",
       "<table class=\"simpletable\">\n",
       "<tr>\n",
       "    <td></td>       <th>coef</th>     <th>std err</th>      <th>t</th>      <th>P>|t|</th>  <th>[0.025</th>    <th>0.975]</th>  \n",
       "</tr>\n",
       "<tr>\n",
       "  <th>const</th> <td> 2.755e+04</td> <td> 3096.577</td> <td>    8.896</td> <td> 0.000</td> <td> 2.13e+04</td> <td> 3.38e+04</td>\n",
       "</tr>\n",
       "<tr>\n",
       "  <th>x1</th>    <td> 2.755e+04</td> <td> 3096.577</td> <td>    8.896</td> <td> 0.000</td> <td> 2.13e+04</td> <td> 3.38e+04</td>\n",
       "</tr>\n",
       "<tr>\n",
       "  <th>x2</th>    <td> -502.8903</td> <td> 2866.249</td> <td>   -0.175</td> <td> 0.861</td> <td>-6272.350</td> <td> 5266.570</td>\n",
       "</tr>\n",
       "<tr>\n",
       "  <th>x3</th>    <td>    0.8613</td> <td>    0.031</td> <td>   27.974</td> <td> 0.000</td> <td>    0.799</td> <td>    0.923</td>\n",
       "</tr>\n",
       "<tr>\n",
       "  <th>x4</th>    <td>   -0.0528</td> <td>    0.050</td> <td>   -1.058</td> <td> 0.296</td> <td>   -0.153</td> <td>    0.048</td>\n",
       "</tr>\n",
       "</table>\n",
       "<table class=\"simpletable\">\n",
       "<tr>\n",
       "  <th>Omnibus:</th>       <td>14.294</td> <th>  Durbin-Watson:     </th> <td>   1.184</td>\n",
       "</tr>\n",
       "<tr>\n",
       "  <th>Prob(Omnibus):</th> <td> 0.001</td> <th>  Jarque-Bera (JB):  </th> <td>  19.252</td>\n",
       "</tr>\n",
       "<tr>\n",
       "  <th>Skew:</th>          <td>-0.956</td> <th>  Prob(JB):          </th> <td>6.60e-05</td>\n",
       "</tr>\n",
       "<tr>\n",
       "  <th>Kurtosis:</th>      <td> 5.364</td> <th>  Cond. No.          </th> <td>1.43e+17</td>\n",
       "</tr>\n",
       "</table><br/><br/>Warnings:<br/>[1] Standard Errors assume that the covariance matrix of the errors is correctly specified.<br/>[2] The smallest eigenvalue is 5.26e-23. This might indicate that there are<br/>strong multicollinearity problems or that the design matrix is singular."
      ],
      "text/plain": [
       "<class 'statsmodels.iolib.summary.Summary'>\n",
       "\"\"\"\n",
       "                            OLS Regression Results                            \n",
       "==============================================================================\n",
       "Dep. Variable:                      y   R-squared:                       0.948\n",
       "Model:                            OLS   Adj. R-squared:                  0.944\n",
       "Method:                 Least Squares   F-statistic:                     278.7\n",
       "Date:                Sun, 17 Jan 2021   Prob (F-statistic):           1.68e-29\n",
       "Time:                        21:30:30   Log-Likelihood:                -526.82\n",
       "No. Observations:                  50   AIC:                             1062.\n",
       "Df Residuals:                      46   BIC:                             1069.\n",
       "Df Model:                           3                                         \n",
       "Covariance Type:            nonrobust                                         \n",
       "==============================================================================\n",
       "                 coef    std err          t      P>|t|      [0.025      0.975]\n",
       "------------------------------------------------------------------------------\n",
       "const       2.755e+04   3096.577      8.896      0.000    2.13e+04    3.38e+04\n",
       "x1          2.755e+04   3096.577      8.896      0.000    2.13e+04    3.38e+04\n",
       "x2          -502.8903   2866.249     -0.175      0.861   -6272.350    5266.570\n",
       "x3             0.8613      0.031     27.974      0.000       0.799       0.923\n",
       "x4            -0.0528      0.050     -1.058      0.296      -0.153       0.048\n",
       "==============================================================================\n",
       "Omnibus:                       14.294   Durbin-Watson:                   1.184\n",
       "Prob(Omnibus):                  0.001   Jarque-Bera (JB):               19.252\n",
       "Skew:                          -0.956   Prob(JB):                     6.60e-05\n",
       "Kurtosis:                       5.364   Cond. No.                     1.43e+17\n",
       "==============================================================================\n",
       "\n",
       "Warnings:\n",
       "[1] Standard Errors assume that the covariance matrix of the errors is correctly specified.\n",
       "[2] The smallest eigenvalue is 5.26e-23. This might indicate that there are\n",
       "strong multicollinearity problems or that the design matrix is singular.\n",
       "\"\"\""
      ]
     },
     "execution_count": 55,
     "metadata": {},
     "output_type": "execute_result"
    }
   ],
   "source": [
    "X_opt =X[:, [0,1,3,4,5]].astype(float)   # on supprime x2 (ville) car p>SL (significant level = 0.5)\n",
    "regressor_OLS = sm.OLS(y,X_opt).fit()     #    p>SL (0.953 > 0.05)\n",
    "regressor_OLS.summary()"
   ]
  },
  {
   "cell_type": "code",
   "execution_count": 56,
   "metadata": {},
   "outputs": [
    {
     "data": {
      "text/html": [
       "<table class=\"simpletable\">\n",
       "<caption>OLS Regression Results</caption>\n",
       "<tr>\n",
       "  <th>Dep. Variable:</th>            <td>y</td>        <th>  R-squared:         </th> <td>   0.948</td>\n",
       "</tr>\n",
       "<tr>\n",
       "  <th>Model:</th>                   <td>OLS</td>       <th>  Adj. R-squared:    </th> <td>   0.944</td>\n",
       "</tr>\n",
       "<tr>\n",
       "  <th>Method:</th>             <td>Least Squares</td>  <th>  F-statistic:       </th> <td>   278.7</td>\n",
       "</tr>\n",
       "<tr>\n",
       "  <th>Date:</th>             <td>Sun, 17 Jan 2021</td> <th>  Prob (F-statistic):</th> <td>1.68e-29</td>\n",
       "</tr>\n",
       "<tr>\n",
       "  <th>Time:</th>                 <td>21:30:33</td>     <th>  Log-Likelihood:    </th> <td> -526.82</td>\n",
       "</tr>\n",
       "<tr>\n",
       "  <th>No. Observations:</th>      <td>    50</td>      <th>  AIC:               </th> <td>   1062.</td>\n",
       "</tr>\n",
       "<tr>\n",
       "  <th>Df Residuals:</th>          <td>    46</td>      <th>  BIC:               </th> <td>   1069.</td>\n",
       "</tr>\n",
       "<tr>\n",
       "  <th>Df Model:</th>              <td>     3</td>      <th>                     </th>     <td> </td>   \n",
       "</tr>\n",
       "<tr>\n",
       "  <th>Covariance Type:</th>      <td>nonrobust</td>    <th>                     </th>     <td> </td>   \n",
       "</tr>\n",
       "</table>\n",
       "<table class=\"simpletable\">\n",
       "<tr>\n",
       "    <td></td>       <th>coef</th>     <th>std err</th>      <th>t</th>      <th>P>|t|</th>  <th>[0.025</th>    <th>0.975]</th>  \n",
       "</tr>\n",
       "<tr>\n",
       "  <th>const</th> <td> 5.509e+04</td> <td> 6193.154</td> <td>    8.896</td> <td> 0.000</td> <td> 4.26e+04</td> <td> 6.76e+04</td>\n",
       "</tr>\n",
       "<tr>\n",
       "  <th>x1</th>    <td> -502.8903</td> <td> 2866.249</td> <td>   -0.175</td> <td> 0.861</td> <td>-6272.350</td> <td> 5266.570</td>\n",
       "</tr>\n",
       "<tr>\n",
       "  <th>x2</th>    <td>    0.8613</td> <td>    0.031</td> <td>   27.974</td> <td> 0.000</td> <td>    0.799</td> <td>    0.923</td>\n",
       "</tr>\n",
       "<tr>\n",
       "  <th>x3</th>    <td>   -0.0528</td> <td>    0.050</td> <td>   -1.058</td> <td> 0.296</td> <td>   -0.153</td> <td>    0.048</td>\n",
       "</tr>\n",
       "</table>\n",
       "<table class=\"simpletable\">\n",
       "<tr>\n",
       "  <th>Omnibus:</th>       <td>14.294</td> <th>  Durbin-Watson:     </th> <td>   1.184</td>\n",
       "</tr>\n",
       "<tr>\n",
       "  <th>Prob(Omnibus):</th> <td> 0.001</td> <th>  Jarque-Bera (JB):  </th> <td>  19.252</td>\n",
       "</tr>\n",
       "<tr>\n",
       "  <th>Skew:</th>          <td>-0.956</td> <th>  Prob(JB):          </th> <td>6.60e-05</td>\n",
       "</tr>\n",
       "<tr>\n",
       "  <th>Kurtosis:</th>      <td> 5.364</td> <th>  Cond. No.          </th> <td>6.80e+05</td>\n",
       "</tr>\n",
       "</table><br/><br/>Warnings:<br/>[1] Standard Errors assume that the covariance matrix of the errors is correctly specified.<br/>[2] The condition number is large, 6.8e+05. This might indicate that there are<br/>strong multicollinearity or other numerical problems."
      ],
      "text/plain": [
       "<class 'statsmodels.iolib.summary.Summary'>\n",
       "\"\"\"\n",
       "                            OLS Regression Results                            \n",
       "==============================================================================\n",
       "Dep. Variable:                      y   R-squared:                       0.948\n",
       "Model:                            OLS   Adj. R-squared:                  0.944\n",
       "Method:                 Least Squares   F-statistic:                     278.7\n",
       "Date:                Sun, 17 Jan 2021   Prob (F-statistic):           1.68e-29\n",
       "Time:                        21:30:33   Log-Likelihood:                -526.82\n",
       "No. Observations:                  50   AIC:                             1062.\n",
       "Df Residuals:                      46   BIC:                             1069.\n",
       "Df Model:                           3                                         \n",
       "Covariance Type:            nonrobust                                         \n",
       "==============================================================================\n",
       "                 coef    std err          t      P>|t|      [0.025      0.975]\n",
       "------------------------------------------------------------------------------\n",
       "const       5.509e+04   6193.154      8.896      0.000    4.26e+04    6.76e+04\n",
       "x1          -502.8903   2866.249     -0.175      0.861   -6272.350    5266.570\n",
       "x2             0.8613      0.031     27.974      0.000       0.799       0.923\n",
       "x3            -0.0528      0.050     -1.058      0.296      -0.153       0.048\n",
       "==============================================================================\n",
       "Omnibus:                       14.294   Durbin-Watson:                   1.184\n",
       "Prob(Omnibus):                  0.001   Jarque-Bera (JB):               19.252\n",
       "Skew:                          -0.956   Prob(JB):                     6.60e-05\n",
       "Kurtosis:                       5.364   Cond. No.                     6.80e+05\n",
       "==============================================================================\n",
       "\n",
       "Warnings:\n",
       "[1] Standard Errors assume that the covariance matrix of the errors is correctly specified.\n",
       "[2] The condition number is large, 6.8e+05. This might indicate that there are\n",
       "strong multicollinearity or other numerical problems.\n",
       "\"\"\""
      ]
     },
     "execution_count": 56,
     "metadata": {},
     "output_type": "execute_result"
    }
   ],
   "source": [
    "X_opt =X[:, [0,3,4,5]].astype(float)   # on supprime x1 (ville) car p>SL (significant level = 0.5)\n",
    "regressor_OLS = sm.OLS(y,X_opt).fit()     #    p>SL (0.943 > 0.05)\n",
    "regressor_OLS.summary()"
   ]
  },
  {
   "cell_type": "code",
   "execution_count": 57,
   "metadata": {},
   "outputs": [
    {
     "data": {
      "text/html": [
       "<table class=\"simpletable\">\n",
       "<caption>OLS Regression Results</caption>\n",
       "<tr>\n",
       "  <th>Dep. Variable:</th>            <td>y</td>        <th>  R-squared:         </th> <td>   0.061</td>\n",
       "</tr>\n",
       "<tr>\n",
       "  <th>Model:</th>                   <td>OLS</td>       <th>  Adj. R-squared:    </th> <td>   0.021</td>\n",
       "</tr>\n",
       "<tr>\n",
       "  <th>Method:</th>             <td>Least Squares</td>  <th>  F-statistic:       </th> <td>   1.518</td>\n",
       "</tr>\n",
       "<tr>\n",
       "  <th>Date:</th>             <td>Sun, 17 Jan 2021</td> <th>  Prob (F-statistic):</th>  <td> 0.230</td> \n",
       "</tr>\n",
       "<tr>\n",
       "  <th>Time:</th>                 <td>21:30:33</td>     <th>  Log-Likelihood:    </th> <td> -599.09</td>\n",
       "</tr>\n",
       "<tr>\n",
       "  <th>No. Observations:</th>      <td>    50</td>      <th>  AIC:               </th> <td>   1204.</td>\n",
       "</tr>\n",
       "<tr>\n",
       "  <th>Df Residuals:</th>          <td>    47</td>      <th>  BIC:               </th> <td>   1210.</td>\n",
       "</tr>\n",
       "<tr>\n",
       "  <th>Df Model:</th>              <td>     2</td>      <th>                     </th>     <td> </td>   \n",
       "</tr>\n",
       "<tr>\n",
       "  <th>Covariance Type:</th>      <td>nonrobust</td>    <th>                     </th>     <td> </td>   \n",
       "</tr>\n",
       "</table>\n",
       "<table class=\"simpletable\">\n",
       "<tr>\n",
       "    <td></td>       <th>coef</th>     <th>std err</th>      <th>t</th>      <th>P>|t|</th>  <th>[0.025</th>    <th>0.975]</th>  \n",
       "</tr>\n",
       "<tr>\n",
       "  <th>const</th> <td> 8.145e+04</td> <td> 2.57e+04</td> <td>    3.169</td> <td> 0.003</td> <td> 2.97e+04</td> <td> 1.33e+05</td>\n",
       "</tr>\n",
       "<tr>\n",
       "  <th>x1</th>    <td>-1.203e+04</td> <td> 1.19e+04</td> <td>   -1.010</td> <td> 0.318</td> <td> -3.6e+04</td> <td> 1.19e+04</td>\n",
       "</tr>\n",
       "<tr>\n",
       "  <th>x2</th>    <td>    0.2856</td> <td>    0.203</td> <td>    1.404</td> <td> 0.167</td> <td>   -0.124</td> <td>    0.695</td>\n",
       "</tr>\n",
       "</table>\n",
       "<table class=\"simpletable\">\n",
       "<tr>\n",
       "  <th>Omnibus:</th>       <td> 0.326</td> <th>  Durbin-Watson:     </th> <td>   0.130</td>\n",
       "</tr>\n",
       "<tr>\n",
       "  <th>Prob(Omnibus):</th> <td> 0.850</td> <th>  Jarque-Bera (JB):  </th> <td>   0.464</td>\n",
       "</tr>\n",
       "<tr>\n",
       "  <th>Skew:</th>          <td> 0.165</td> <th>  Prob(JB):          </th> <td>   0.793</td>\n",
       "</tr>\n",
       "<tr>\n",
       "  <th>Kurtosis:</th>      <td> 2.663</td> <th>  Cond. No.          </th> <td>5.69e+05</td>\n",
       "</tr>\n",
       "</table><br/><br/>Warnings:<br/>[1] Standard Errors assume that the covariance matrix of the errors is correctly specified.<br/>[2] The condition number is large, 5.69e+05. This might indicate that there are<br/>strong multicollinearity or other numerical problems."
      ],
      "text/plain": [
       "<class 'statsmodels.iolib.summary.Summary'>\n",
       "\"\"\"\n",
       "                            OLS Regression Results                            \n",
       "==============================================================================\n",
       "Dep. Variable:                      y   R-squared:                       0.061\n",
       "Model:                            OLS   Adj. R-squared:                  0.021\n",
       "Method:                 Least Squares   F-statistic:                     1.518\n",
       "Date:                Sun, 17 Jan 2021   Prob (F-statistic):              0.230\n",
       "Time:                        21:30:33   Log-Likelihood:                -599.09\n",
       "No. Observations:                  50   AIC:                             1204.\n",
       "Df Residuals:                      47   BIC:                             1210.\n",
       "Df Model:                           2                                         \n",
       "Covariance Type:            nonrobust                                         \n",
       "==============================================================================\n",
       "                 coef    std err          t      P>|t|      [0.025      0.975]\n",
       "------------------------------------------------------------------------------\n",
       "const       8.145e+04   2.57e+04      3.169      0.003    2.97e+04    1.33e+05\n",
       "x1         -1.203e+04   1.19e+04     -1.010      0.318    -3.6e+04    1.19e+04\n",
       "x2             0.2856      0.203      1.404      0.167      -0.124       0.695\n",
       "==============================================================================\n",
       "Omnibus:                        0.326   Durbin-Watson:                   0.130\n",
       "Prob(Omnibus):                  0.850   Jarque-Bera (JB):                0.464\n",
       "Skew:                           0.165   Prob(JB):                        0.793\n",
       "Kurtosis:                       2.663   Cond. No.                     5.69e+05\n",
       "==============================================================================\n",
       "\n",
       "Warnings:\n",
       "[1] Standard Errors assume that the covariance matrix of the errors is correctly specified.\n",
       "[2] The condition number is large, 5.69e+05. This might indicate that there are\n",
       "strong multicollinearity or other numerical problems.\n",
       "\"\"\""
      ]
     },
     "execution_count": 57,
     "metadata": {},
     "output_type": "execute_result"
    }
   ],
   "source": [
    "X_opt =X[:, [0,3,5]].astype(float)   # on supprime x4 (administration) car p>SL (significant level = 0.5)\n",
    "regressor_OLS = sm.OLS(y,X_opt).fit()     #    p>SL (0.608 > 0.05)\n",
    "regressor_OLS.summary()"
   ]
  },
  {
   "cell_type": "code",
   "execution_count": 58,
   "metadata": {},
   "outputs": [
    {
     "data": {
      "text/html": [
       "<table class=\"simpletable\">\n",
       "<caption>OLS Regression Results</caption>\n",
       "<tr>\n",
       "  <th>Dep. Variable:</th>            <td>y</td>        <th>  R-squared:         </th> <td>   0.021</td>\n",
       "</tr>\n",
       "<tr>\n",
       "  <th>Model:</th>                   <td>OLS</td>       <th>  Adj. R-squared:    </th> <td>   0.001</td>\n",
       "</tr>\n",
       "<tr>\n",
       "  <th>Method:</th>             <td>Least Squares</td>  <th>  F-statistic:       </th> <td>   1.043</td>\n",
       "</tr>\n",
       "<tr>\n",
       "  <th>Date:</th>             <td>Sun, 17 Jan 2021</td> <th>  Prob (F-statistic):</th>  <td> 0.312</td> \n",
       "</tr>\n",
       "<tr>\n",
       "  <th>Time:</th>                 <td>21:30:35</td>     <th>  Log-Likelihood:    </th> <td> -600.12</td>\n",
       "</tr>\n",
       "<tr>\n",
       "  <th>No. Observations:</th>      <td>    50</td>      <th>  AIC:               </th> <td>   1204.</td>\n",
       "</tr>\n",
       "<tr>\n",
       "  <th>Df Residuals:</th>          <td>    48</td>      <th>  BIC:               </th> <td>   1208.</td>\n",
       "</tr>\n",
       "<tr>\n",
       "  <th>Df Model:</th>              <td>     1</td>      <th>                     </th>     <td> </td>   \n",
       "</tr>\n",
       "<tr>\n",
       "  <th>Covariance Type:</th>      <td>nonrobust</td>    <th>                     </th>     <td> </td>   \n",
       "</tr>\n",
       "</table>\n",
       "<table class=\"simpletable\">\n",
       "<tr>\n",
       "    <td></td>       <th>coef</th>     <th>std err</th>      <th>t</th>      <th>P>|t|</th>  <th>[0.025</th>    <th>0.975]</th>  \n",
       "</tr>\n",
       "<tr>\n",
       "  <th>const</th> <td> 1.162e+05</td> <td> 7013.324</td> <td>   16.567</td> <td> 0.000</td> <td> 1.02e+05</td> <td>  1.3e+05</td>\n",
       "</tr>\n",
       "<tr>\n",
       "  <th>x1</th>    <td>-1.228e+04</td> <td>  1.2e+04</td> <td>   -1.021</td> <td> 0.312</td> <td>-3.65e+04</td> <td> 1.19e+04</td>\n",
       "</tr>\n",
       "</table>\n",
       "<table class=\"simpletable\">\n",
       "<tr>\n",
       "  <th>Omnibus:</th>       <td> 0.079</td> <th>  Durbin-Watson:     </th> <td>   0.073</td>\n",
       "</tr>\n",
       "<tr>\n",
       "  <th>Prob(Omnibus):</th> <td> 0.961</td> <th>  Jarque-Bera (JB):  </th> <td>   0.190</td>\n",
       "</tr>\n",
       "<tr>\n",
       "  <th>Skew:</th>          <td> 0.087</td> <th>  Prob(JB):          </th> <td>   0.909</td>\n",
       "</tr>\n",
       "<tr>\n",
       "  <th>Kurtosis:</th>      <td> 2.753</td> <th>  Cond. No.          </th> <td>    2.41</td>\n",
       "</tr>\n",
       "</table><br/><br/>Warnings:<br/>[1] Standard Errors assume that the covariance matrix of the errors is correctly specified."
      ],
      "text/plain": [
       "<class 'statsmodels.iolib.summary.Summary'>\n",
       "\"\"\"\n",
       "                            OLS Regression Results                            \n",
       "==============================================================================\n",
       "Dep. Variable:                      y   R-squared:                       0.021\n",
       "Model:                            OLS   Adj. R-squared:                  0.001\n",
       "Method:                 Least Squares   F-statistic:                     1.043\n",
       "Date:                Sun, 17 Jan 2021   Prob (F-statistic):              0.312\n",
       "Time:                        21:30:35   Log-Likelihood:                -600.12\n",
       "No. Observations:                  50   AIC:                             1204.\n",
       "Df Residuals:                      48   BIC:                             1208.\n",
       "Df Model:                           1                                         \n",
       "Covariance Type:            nonrobust                                         \n",
       "==============================================================================\n",
       "                 coef    std err          t      P>|t|      [0.025      0.975]\n",
       "------------------------------------------------------------------------------\n",
       "const       1.162e+05   7013.324     16.567      0.000    1.02e+05     1.3e+05\n",
       "x1         -1.228e+04    1.2e+04     -1.021      0.312   -3.65e+04    1.19e+04\n",
       "==============================================================================\n",
       "Omnibus:                        0.079   Durbin-Watson:                   0.073\n",
       "Prob(Omnibus):                  0.961   Jarque-Bera (JB):                0.190\n",
       "Skew:                           0.087   Prob(JB):                        0.909\n",
       "Kurtosis:                       2.753   Cond. No.                         2.41\n",
       "==============================================================================\n",
       "\n",
       "Warnings:\n",
       "[1] Standard Errors assume that the covariance matrix of the errors is correctly specified.\n",
       "\"\"\""
      ]
     },
     "execution_count": 58,
     "metadata": {},
     "output_type": "execute_result"
    }
   ],
   "source": [
    "X_opt =X[:, [0,3]].astype(float)   # on supprime x5 (marketing) car p>SL (significant level = 0.5)\n",
    "regressor_OLS = sm.OLS(y,X_opt).fit() #    p>SL (0.06 > 0.05)\n",
    "regressor_OLS.summary()"
   ]
  },
  {
   "cell_type": "markdown",
   "metadata": {},
   "source": [
    "# 5. Application du modèle optimal de Régression Linéaire"
   ]
  },
  {
   "cell_type": "code",
   "execution_count": 144,
   "metadata": {},
   "outputs": [],
   "source": [
    "#On extrait nos variables dépendantes et indépendantes\n",
    "x_BE= df.iloc[:,[0]].values  \n",
    "y_BE= df.iloc[:, -1].values  "
   ]
  },
  {
   "cell_type": "code",
   "execution_count": 145,
   "metadata": {},
   "outputs": [],
   "source": [
    "x_BE_train, x_BE_test, y_BE_train, y_BE_test= train_test_split(x_BE, y_BE, test_size= 0.20, random_state=0)  "
   ]
  },
  {
   "cell_type": "code",
   "execution_count": 146,
   "metadata": {},
   "outputs": [
    {
     "data": {
      "text/plain": [
       "LinearRegression()"
      ]
     },
     "execution_count": 146,
     "metadata": {},
     "output_type": "execute_result"
    }
   ],
   "source": [
    "#nouvelle régression\n",
    "regressor_BE= LinearRegression()  \n",
    "regressor_BE.fit(np.array(x_BE_train).reshape(-1,1), y_BE_train)  "
   ]
  },
  {
   "cell_type": "code",
   "execution_count": 147,
   "metadata": {},
   "outputs": [],
   "source": [
    "#nouveau prédicteur\n",
    "y_pred= regressor_BE.predict(x_BE_test)  "
   ]
  },
  {
   "cell_type": "code",
   "execution_count": 148,
   "metadata": {},
   "outputs": [
    {
     "name": "stdout",
     "output_type": "stream",
     "text": [
      "103282.38    -->    104667.27805997859\n",
      "144259.4    -->    134150.8341057847\n",
      "146121.95    -->    135207.80019516923\n",
      "77798.83    -->    72170.54428855635\n",
      "191050.39    -->    179090.5860250835\n",
      "105008.31    -->    109824.77386586338\n",
      "81229.06    -->    65644.27773756775\n",
      "97483.56    -->    100481.43277138655\n",
      "110352.25    -->    111431.75202432103\n",
      "166187.94    -->    169438.14843539096\n"
     ]
    }
   ],
   "source": [
    "#on compare à nouveau le Profit réel vs le Profit prédit\n",
    "for i,j in np.nditer((y_BE_test,y_pred)):\n",
    "    print(i,\"   -->   \", j)"
   ]
  },
  {
   "cell_type": "markdown",
   "metadata": {},
   "source": [
    "Si l'on remonte plus haut, pour comparer avec notre ancien modèle... on s'est pas mal amélioré dans la prédiction !\n",
    "Passons à la visualisation"
   ]
  },
  {
   "cell_type": "code",
   "execution_count": 149,
   "metadata": {},
   "outputs": [
    {
     "name": "stdout",
     "output_type": "stream",
     "text": [
      "R2_train : 0.9449589778363044\n",
      "Coefficients : [0.8516228]\n",
      "y pour (x1,...,xn)=0 : [48416.29766139]\n"
     ]
    }
   ],
   "source": [
    "#On compare les données de test avec les prédictions\n",
    "#print(sklearn.metrics.accuracy_score(Y, y_pred)\n",
    "\n",
    "#afficher le score R² du train sample\n",
    "print(\"R2_train :\",regressor_BE.score(x_BE_train, y_BE_train))\n",
    "#trouver notre coefficient du modèle\n",
    "print(\"Coefficients :\",regressor_BE.coef_)\n",
    "#notre constante issu de l'hypothèse H0\n",
    "print(\"y pour (x1,...,xn)=0 :\",regressor_BE.predict([[0]]))"
   ]
  },
  {
   "cell_type": "markdown",
   "metadata": {},
   "source": [
    "$y$ $=$ $48416.29766139$ + $0.8516228$ $X_R$"
   ]
  },
  {
   "cell_type": "markdown",
   "metadata": {},
   "source": [
    "# 6. Visualisation"
   ]
  },
  {
   "cell_type": "markdown",
   "metadata": {},
   "source": [
    "## 6.1 R&D -- Profit"
   ]
  },
  {
   "cell_type": "markdown",
   "metadata": {},
   "source": [
    "Maintenant que l'on sait que notre modèle est plus performant en utilisant uniquement la variable \"R&D\" on peut visualiser la relation R&D / Profit"
   ]
  },
  {
   "cell_type": "code",
   "execution_count": 64,
   "metadata": {},
   "outputs": [
    {
     "data": {
      "image/png": "[encoded data removed]",
      "text/plain": [
       "<Figure size 432x288 with 1 Axes>"
      ]
     },
     "metadata": {},
     "output_type": "display_data"
    }
   ],
   "source": [
    "plt.plot(df.iloc[:,0], df.iloc[:, 4], color = 'green')\n",
    "plt.xlabel('Dépense R&D')\n",
    "plt.ylabel('Profits')\n",
    "plt.title('Relation des dépenses R&D et Profit généré')\n",
    "plt.grid()"
   ]
  },
  {
   "cell_type": "markdown",
   "metadata": {},
   "source": [
    "## 6.2 Résultats du Train sample "
   ]
  },
  {
   "cell_type": "code",
   "execution_count": 65,
   "metadata": {},
   "outputs": [
    {
     "data": {
      "image/png": "[encoded data removed]",
      "text/plain": [
       "<Figure size 432x288 with 1 Axes>"
      ]
     },
     "metadata": {},
     "output_type": "display_data"
    }
   ],
   "source": [
    "plt.scatter(x_BE_train, y_BE_train, color = 'purple')\n",
    "plt.plot(x_BE_train, regressor.predict(x_BE_train), color = 'hotpink')\n",
    "plt.title('R&D vs Profit généré (Training set)')\n",
    "plt.xlabel('Dépenses R&D')\n",
    "plt.ylabel('Profit')\n",
    "plt.grid(color='pink', linestyle='-.', linewidth=0.7)\n",
    "plt.show()"
   ]
  },
  {
   "cell_type": "markdown",
   "metadata": {},
   "source": [
    "## 6.3 Résultats du Train sample "
   ]
  },
  {
   "cell_type": "code",
   "execution_count": 66,
   "metadata": {},
   "outputs": [
    {
     "data": {
      "image/png": "[encoded data removed]",
      "text/plain": [
       "<Figure size 432x288 with 1 Axes>"
      ]
     },
     "metadata": {},
     "output_type": "display_data"
    }
   ],
   "source": [
    "plt.scatter(x_BE_test, y_BE_test, color = 'purple')\n",
    "plt.plot(x_BE_test, regressor.predict(x_BE_test), color = 'hotpink')\n",
    "plt.title('R&D spend vs Profit (Test set)')\n",
    "plt.xlabel('R&D spend')\n",
    "plt.ylabel('Profit')\n",
    "plt.grid(color = 'pink', linestyle='-.', linewidth=0.7)\n",
    "plt.show()"
   ]
  },
  {
   "cell_type": "markdown",
   "metadata": {},
   "source": [
    "# 7. Analyse"
   ]
  },
  {
   "cell_type": "markdown",
   "metadata": {},
   "source": [
    "## 7.1 Top 5"
   ]
  },
  {
   "cell_type": "markdown",
   "metadata": {},
   "source": [
    "La problématique de ce jeu de donnée posée par le client demande de repérer les 5 startups les plus prometteuses.\n",
    "Nous avons à notre disposition : \n",
    "Une relation démontrée entre les dépenses R&D et le Profit généré\n",
    "Un modèle de données optimisé permettant de prédire la variable dépendante \"Profit\"\n",
    "\n",
    "Comment identifier à partir de là, 5 startups qui seraient plus prometteuse que les autres ?\n",
    "Il suffit d'établir un ratio entre R&D et Profit"
   ]
  },
  {
   "cell_type": "code",
   "execution_count": 67,
   "metadata": {},
   "outputs": [],
   "source": [
    "#on reprend notre DF de base, contenant les données initiales\n",
    "sub_df = df.copy()\n",
    "\n",
    "#ligne\n",
    "for i in range(len(df[[\"R&D\"]])):\n",
    "    \n",
    "    liste = []\n",
    "    \n",
    "#colonne\n",
    "    for y in range(len(df[[\"R&D\"]].columns)):\n",
    "        \n",
    "        liste.append(df[[\"R&D\"]].loc[i,df[[\"R&D\"]].columns[y]])\n",
    "\n",
    "    sub_df.loc[i,\"prediction\"] = regressor.predict([liste])\n",
    "\n",
    "sub_df[\"RATIO\"] = sub_df[\"Profit\"]*100 / sub_df[\"prediction\"]\n",
    "\n",
    "df_top5 = sub_df[[\"Profit\",\"prediction\",\"RATIO\"]].sort_values(by=\"RATIO\",ascending=False).head(5)\n",
    "df_bot5 = sub_df[[\"Profit\",\"prediction\",\"RATIO\"]].sort_values(by=\"RATIO\",ascending=False).tail(5)\n",
    "\n",
    "\n",
    "df_RaiseUnicornes = sub_df[[\"Profit\",\"prediction\",\"RATIO\",\"villes\"]]"
   ]
  },
  {
   "cell_type": "code",
   "execution_count": 68,
   "metadata": {},
   "outputs": [
    {
     "data": {
      "text/html": [
       "<div>\n",
       "<style scoped>\n",
       "    .dataframe tbody tr th:only-of-type {\n",
       "        vertical-align: middle;\n",
       "    }\n",
       "\n",
       "    .dataframe tbody tr th {\n",
       "        vertical-align: top;\n",
       "    }\n",
       "\n",
       "    .dataframe thead th {\n",
       "        text-align: right;\n",
       "    }\n",
       "</style>\n",
       "<table border=\"1\" class=\"dataframe\">\n",
       "  <thead>\n",
       "    <tr style=\"text-align: right;\">\n",
       "      <th></th>\n",
       "      <th>Profit</th>\n",
       "      <th>prediction</th>\n",
       "      <th>RATIO</th>\n",
       "    </tr>\n",
       "  </thead>\n",
       "  <tbody>\n",
       "    <tr>\n",
       "      <th>45</th>\n",
       "      <td>64926.08</td>\n",
       "      <td>49268.116335</td>\n",
       "      <td>131.781129</td>\n",
       "    </tr>\n",
       "    <tr>\n",
       "      <th>36</th>\n",
       "      <td>90708.19</td>\n",
       "      <td>72827.009208</td>\n",
       "      <td>124.552952</td>\n",
       "    </tr>\n",
       "    <tr>\n",
       "      <th>38</th>\n",
       "      <td>81229.06</td>\n",
       "      <td>65644.277738</td>\n",
       "      <td>123.741265</td>\n",
       "    </tr>\n",
       "    <tr>\n",
       "      <th>43</th>\n",
       "      <td>69758.98</td>\n",
       "      <td>61621.330858</td>\n",
       "      <td>113.205896</td>\n",
       "    </tr>\n",
       "    <tr>\n",
       "      <th>16</th>\n",
       "      <td>126992.93</td>\n",
       "      <td>114854.040827</td>\n",
       "      <td>110.568970</td>\n",
       "    </tr>\n",
       "  </tbody>\n",
       "</table>\n",
       "</div>"
      ],
      "text/plain": [
       "       Profit     prediction       RATIO\n",
       "45   64926.08   49268.116335  131.781129\n",
       "36   90708.19   72827.009208  124.552952\n",
       "38   81229.06   65644.277738  123.741265\n",
       "43   69758.98   61621.330858  113.205896\n",
       "16  126992.93  114854.040827  110.568970"
      ]
     },
     "execution_count": 68,
     "metadata": {},
     "output_type": "execute_result"
    }
   ],
   "source": [
    "df_top5"
   ]
  },
  {
   "cell_type": "code",
   "execution_count": 41,
   "metadata": {},
   "outputs": [
    {
     "data": {
      "text/html": [
       "<div>\n",
       "<style scoped>\n",
       "    .dataframe tbody tr th:only-of-type {\n",
       "        vertical-align: middle;\n",
       "    }\n",
       "\n",
       "    .dataframe tbody tr th {\n",
       "        vertical-align: top;\n",
       "    }\n",
       "\n",
       "    .dataframe thead th {\n",
       "        text-align: right;\n",
       "    }\n",
       "</style>\n",
       "<table border=\"1\" class=\"dataframe\">\n",
       "  <thead>\n",
       "    <tr style=\"text-align: right;\">\n",
       "      <th></th>\n",
       "      <th>Profit</th>\n",
       "      <th>prediction</th>\n",
       "      <th>RATIO</th>\n",
       "    </tr>\n",
       "  </thead>\n",
       "  <tbody>\n",
       "    <tr>\n",
       "      <th>15</th>\n",
       "      <td>129917.04</td>\n",
       "      <td>145947.215062</td>\n",
       "      <td>89.016457</td>\n",
       "    </tr>\n",
       "    <tr>\n",
       "      <th>14</th>\n",
       "      <td>132602.65</td>\n",
       "      <td>150562.695537</td>\n",
       "      <td>88.071384</td>\n",
       "    </tr>\n",
       "    <tr>\n",
       "      <th>47</th>\n",
       "      <td>42559.73</td>\n",
       "      <td>48416.297661</td>\n",
       "      <td>87.903727</td>\n",
       "    </tr>\n",
       "    <tr>\n",
       "      <th>48</th>\n",
       "      <td>35673.41</td>\n",
       "      <td>48877.919800</td>\n",
       "      <td>72.984714</td>\n",
       "    </tr>\n",
       "    <tr>\n",
       "      <th>49</th>\n",
       "      <td>14681.40</td>\n",
       "      <td>48416.297661</td>\n",
       "      <td>30.323260</td>\n",
       "    </tr>\n",
       "  </tbody>\n",
       "</table>\n",
       "</div>"
      ],
      "text/plain": [
       "       Profit     prediction      RATIO\n",
       "15  129917.04  145947.215062  89.016457\n",
       "14  132602.65  150562.695537  88.071384\n",
       "47   42559.73   48416.297661  87.903727\n",
       "48   35673.41   48877.919800  72.984714\n",
       "49   14681.40   48416.297661  30.323260"
      ]
     },
     "execution_count": 41,
     "metadata": {},
     "output_type": "execute_result"
    }
   ],
   "source": [
    "df_bot5"
   ]
  },
  {
   "cell_type": "markdown",
   "metadata": {},
   "source": [
    "(bonus) Meilleurs villes"
   ]
  },
  {
   "cell_type": "code",
   "execution_count": 150,
   "metadata": {},
   "outputs": [
    {
     "data": {
      "text/html": [
       "<div>\n",
       "<style scoped>\n",
       "    .dataframe tbody tr th:only-of-type {\n",
       "        vertical-align: middle;\n",
       "    }\n",
       "\n",
       "    .dataframe tbody tr th {\n",
       "        vertical-align: top;\n",
       "    }\n",
       "\n",
       "    .dataframe thead th {\n",
       "        text-align: right;\n",
       "    }\n",
       "</style>\n",
       "<table border=\"1\" class=\"dataframe\">\n",
       "  <thead>\n",
       "    <tr style=\"text-align: right;\">\n",
       "      <th></th>\n",
       "      <th>RATIO</th>\n",
       "    </tr>\n",
       "    <tr>\n",
       "      <th>villes</th>\n",
       "      <th></th>\n",
       "    </tr>\n",
       "  </thead>\n",
       "  <tbody>\n",
       "    <tr>\n",
       "      <th>Lyon</th>\n",
       "      <td>102.098000</td>\n",
       "    </tr>\n",
       "    <tr>\n",
       "      <th>Paris</th>\n",
       "      <td>101.573120</td>\n",
       "    </tr>\n",
       "    <tr>\n",
       "      <th>Strasbourg</th>\n",
       "      <td>97.911019</td>\n",
       "    </tr>\n",
       "  </tbody>\n",
       "</table>\n",
       "</div>"
      ],
      "text/plain": [
       "                 RATIO\n",
       "villes                \n",
       "Lyon        102.098000\n",
       "Paris       101.573120\n",
       "Strasbourg   97.911019"
      ]
     },
     "execution_count": 150,
     "metadata": {},
     "output_type": "execute_result"
    }
   ],
   "source": [
    "sub_df[[\"villes\",\"RATIO\"]].groupby(\"villes\").mean()"
   ]
  },
  {
   "cell_type": "code",
   "execution_count": 151,
   "metadata": {},
   "outputs": [
    {
     "data": {
      "image/png": "[encoded data removed]",
      "text/plain": [
       "<Figure size 432x288 with 1 Axes>"
      ]
     },
     "metadata": {},
     "output_type": "display_data"
    }
   ],
   "source": [
    "sub_df = df[[\"villes\",\"Profit\"]].merge(df_RaiseUnicornes[[\"Profit\",\"RATIO\"]],how=\"inner\"\n",
    "                           ,on=\"Profit\")\n",
    "\n",
    "barplot = plt.bar(height = sub_df[[\"villes\",\"RATIO\"]].groupby(\"villes\").mean()[\"RATIO\"],x=sub_df[[\"villes\",\"RATIO\"]].groupby(\"villes\").mean().index)\n",
    "barplot[0].set_color(\"r\")\n",
    "barplot[1].set_color(\"b\")\n",
    "barplot[2].set_color(\"c\")\n",
    "plt.show()\n"
   ]
  },
  {
   "cell_type": "code",
   "execution_count": null,
   "metadata": {},
   "outputs": [],
   "source": []
  },
  {
   "cell_type": "code",
   "execution_count": null,
   "metadata": {},
   "outputs": [],
   "source": []
  }
 ],
 "metadata": {
  "kernelspec": {
   "display_name": "Python 3",
   "language": "python",
   "name": "python3"
  },
  "language_info": {
   "codemirror_mode": {
    "name": "ipython",
    "version": 3
   },
   "file_extension": ".py",
   "mimetype": "text/x-python",
   "name": "python",
   "nbconvert_exporter": "python",
   "pygments_lexer": "ipython3",
   "version": "3.8.3"
  }
 },
 "nbformat": 4,
 "nbformat_minor": 1
}
